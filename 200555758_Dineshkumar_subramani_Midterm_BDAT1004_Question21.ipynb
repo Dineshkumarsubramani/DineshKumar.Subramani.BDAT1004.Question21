{
 "cells": [
  {
   "cell_type": "markdown",
   "id": "57c16aae",
   "metadata": {},
   "source": [
    "# Question 21"
   ]
  },
  {
   "cell_type": "markdown",
   "id": "71a6731d",
   "metadata": {},
   "source": [
    "__int()__: Constructor that takes as input a pair of Point objects that represent the ends points of the line segment\n",
    "\n",
    "Length():: returns the length if the segment \n",
    "\n",
    "Slope() returns the slope of the segment of none if the slope is unbounded \n",
    "\n",
    "Example---\n",
    "\n",
    "-- >>> p1 = Point(3,4)\n",
    "\n",
    "-- >>> p2 = Point()\n",
    "\n",
    "-- >>> s = Segment(p1,p2)\n",
    "\n",
    "-- >>> s.length()\n",
    "\n",
    "5.0\n",
    "\n",
    "-- >>> s.slope()\n",
    "\n",
    "0.75"
   ]
  },
  {
   "cell_type": "markdown",
   "id": "c5d8b55c",
   "metadata": {},
   "source": [
    "### Defining the point class"
   ]
  },
  {
   "cell_type": "code",
   "execution_count": 13,
   "id": "a9c1eff8",
   "metadata": {},
   "outputs": [],
   "source": [
    "class Point:\n",
    "    def __init__(self, x=0, y=0):\n",
    "        self.x = x\n",
    "        self.y = y"
   ]
  },
  {
   "cell_type": "markdown",
   "id": "62b23765",
   "metadata": {},
   "source": [
    "### Defining the Segment class , adding the required methods in it"
   ]
  },
  {
   "cell_type": "code",
   "execution_count": 17,
   "id": "098005ea",
   "metadata": {},
   "outputs": [],
   "source": [
    "import math\n",
    "\n",
    "class Segment:\n",
    "    def __init__(self, p1,p2):\n",
    "        self.p1 = p1\n",
    "        self.p2 = p2\n",
    "        \n",
    "    def length(self):\n",
    "        return math.sqrt((self.p2.x - self.p1.x) ** 2 + (self.p2.y - self.p1.y) ** 2)\n",
    "    \n",
    "    def slope(self):\n",
    "        if self.p2.x == self.p1.x:\n",
    "            return none\n",
    "        return (self.p2.y - self.p1.y) / (self.p2.x - self.p1.x)"
   ]
  },
  {
   "cell_type": "markdown",
   "id": "5d739f13",
   "metadata": {},
   "source": [
    "### Creating Examples from the given question to test the code and to check if the methods are calculating right"
   ]
  },
  {
   "cell_type": "code",
   "execution_count": 23,
   "id": "ca28b04a",
   "metadata": {},
   "outputs": [
    {
     "name": "stdout",
     "output_type": "stream",
     "text": [
      "Segment Length is : 5.0\n",
      "Segment Slope is : 1.3333333333333333\n"
     ]
    }
   ],
   "source": [
    "\n",
    "# p1 = Point(4,3)\n",
    "# p2 = Point(0,0)\n",
    "\n",
    "p1 = Point(3,4)\n",
    "p2 = Point()\n",
    "\n",
    "# p1 = Point(3,4)\n",
    "# p2 = Point(0,0)\n",
    "\n",
    "\n",
    "s = Segment(p1,p2)\n",
    "\n",
    "print(\"Segment Length is :\", s.length())\n",
    "\n",
    "print(\"Segment Slope is :\", s.slope())"
   ]
  },
  {
   "cell_type": "code",
   "execution_count": null,
   "id": "05419063",
   "metadata": {},
   "outputs": [],
   "source": []
  }
 ],
 "metadata": {
  "kernelspec": {
   "display_name": "Python 3 (ipykernel)",
   "language": "python",
   "name": "python3"
  },
  "language_info": {
   "codemirror_mode": {
    "name": "ipython",
    "version": 3
   },
   "file_extension": ".py",
   "mimetype": "text/x-python",
   "name": "python",
   "nbconvert_exporter": "python",
   "pygments_lexer": "ipython3",
   "version": "3.10.9"
  }
 },
 "nbformat": 4,
 "nbformat_minor": 5
}
